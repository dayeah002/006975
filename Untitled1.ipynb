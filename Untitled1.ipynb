{
  "nbformat": 4,
  "nbformat_minor": 0,
  "metadata": {
    "colab": {
      "provenance": [],
      "authorship_tag": "ABX9TyP6pdVdeHNqBFvN7YnN0cqu",
      "include_colab_link": true
    },
    "kernelspec": {
      "name": "python3",
      "display_name": "Python 3"
    },
    "language_info": {
      "name": "python"
    }
  },
  "cells": [
    {
      "cell_type": "markdown",
      "metadata": {
        "id": "view-in-github",
        "colab_type": "text"
      },
      "source": [
        "<a href=\"https://colab.research.google.com/github/dayeah002/006975/blob/master/Untitled1.ipynb\" target=\"_parent\"><img src=\"https://colab.research.google.com/assets/colab-badge.svg\" alt=\"Open In Colab\"/></a>"
      ]
    },
    {
      "cell_type": "code",
      "execution_count": null,
      "metadata": {
        "colab": {
          "base_uri": "https://localhost:8080/"
        },
        "id": "GHPC2QTa8VnM",
        "outputId": "3f24065a-2c56-4831-8e7a-96532a86e134"
      },
      "outputs": [
        {
          "output_type": "stream",
          "name": "stdout",
          "text": [
            "혼자 공부하는 데이터 분석\n"
          ]
        }
      ],
      "source": [
        "hj={'name':'혼자 공부하는 데이터 분석'}\n",
        "print(hj['name'])"
      ]
    },
    {
      "cell_type": "code",
      "source": [
        "hj"
      ],
      "metadata": {
        "colab": {
          "base_uri": "https://localhost:8080/"
        },
        "id": "A4uv6eG_9fY_",
        "outputId": "9805e34a-0ec4-4ef7-880b-aa6b8e3f2255"
      },
      "execution_count": null,
      "outputs": [
        {
          "output_type": "execute_result",
          "data": {
            "text/plain": [
              "{'name': '혼자 공부하는 데이터 분석'}"
            ]
          },
          "metadata": {},
          "execution_count": 4
        }
      ]
    },
    {
      "cell_type": "code",
      "source": [
        "type(hj)"
      ],
      "metadata": {
        "colab": {
          "base_uri": "https://localhost:8080/"
        },
        "id": "6oMQg7MJ-TnX",
        "outputId": "dc30c62e-3ddd-47ec-cabc-8984a2001331"
      },
      "execution_count": null,
      "outputs": [
        {
          "output_type": "execute_result",
          "data": {
            "text/plain": [
              "dict"
            ]
          },
          "metadata": {},
          "execution_count": 7
        }
      ]
    },
    {
      "cell_type": "code",
      "source": [
        "import json\n",
        "hj_str = json.dumps(hj, ensure_ascii=False)\n",
        "print(hj_str)"
      ],
      "metadata": {
        "colab": {
          "base_uri": "https://localhost:8080/"
        },
        "id": "smxIO8HW9mS3",
        "outputId": "c63fa3ec-a7dc-4554-d86f-176740d0bc0e"
      },
      "execution_count": null,
      "outputs": [
        {
          "output_type": "stream",
          "name": "stdout",
          "text": [
            "{\"name\": \"혼자 공부하는 데이터 분석\"}\n"
          ]
        }
      ]
    },
    {
      "cell_type": "code",
      "source": [
        "type(hj_str)"
      ],
      "metadata": {
        "colab": {
          "base_uri": "https://localhost:8080/"
        },
        "id": "hu5YCthb-Haf",
        "outputId": "ed21c5e5-74a4-4e5f-d737-795335455455"
      },
      "execution_count": null,
      "outputs": [
        {
          "output_type": "execute_result",
          "data": {
            "text/plain": [
              "str"
            ]
          },
          "metadata": {},
          "execution_count": 6
        }
      ]
    },
    {
      "cell_type": "code",
      "source": [
        "hj2=json.loads(hj_str)\n",
        "print(hj2['name'])"
      ],
      "metadata": {
        "colab": {
          "base_uri": "https://localhost:8080/"
        },
        "id": "PNM6c78--cI3",
        "outputId": "80375ecb-edb2-4f4f-c0a0-39497a9b29dc"
      },
      "execution_count": null,
      "outputs": [
        {
          "output_type": "stream",
          "name": "stdout",
          "text": [
            "혼자 공부하는 데이터 분석\n"
          ]
        }
      ]
    },
    {
      "cell_type": "code",
      "source": [
        "hj3 = json.loads('{\"name\": \"김단아\", \"school\": \"신성여자고등학교\", \"role\": \"일진\"}')"
      ],
      "metadata": {
        "id": "Qtwjugil-ppO"
      },
      "execution_count": null,
      "outputs": []
    },
    {
      "cell_type": "code",
      "source": [
        "print(hj3[\"name\"])\n",
        "print(hj3[\"school\"])\n",
        "print(hj3[\"role\"])"
      ],
      "metadata": {
        "colab": {
          "base_uri": "https://localhost:8080/"
        },
        "id": "fv3DFeim_s-Y",
        "outputId": "5b78aa57-7c0a-4160-e248-3f848c5064c1"
      },
      "execution_count": null,
      "outputs": [
        {
          "output_type": "stream",
          "name": "stdout",
          "text": [
            "김단아\n",
            "신성여자고등학교\n",
            "일진\n"
          ]
        }
      ]
    },
    {
      "cell_type": "code",
      "source": [
        "hj4 = json.loads('{\"name\": \"김단아\", \"school\": [\"신성여자고등학교\", \"starship\"], \"role\": \"일진\"}')"
      ],
      "metadata": {
        "id": "CyykIZ2zATrc"
      },
      "execution_count": null,
      "outputs": []
    },
    {
      "cell_type": "code",
      "source": [
        "print(hj4[\"name\"])\n",
        "print(hj4[\"school\"])\n",
        "print(hj4[\"role\"])"
      ],
      "metadata": {
        "colab": {
          "base_uri": "https://localhost:8080/"
        },
        "id": "UlGAvMKyAdpG",
        "outputId": "af8c36b2-464f-4818-cf83-be40cf53b8cf"
      },
      "execution_count": null,
      "outputs": [
        {
          "output_type": "stream",
          "name": "stdout",
          "text": [
            "김단아\n",
            "['신성여자고등학교', 'starship']\n",
            "일진\n"
          ]
        }
      ]
    }
  ]
}